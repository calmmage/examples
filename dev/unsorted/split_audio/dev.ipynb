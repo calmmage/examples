{
 "cells": [
  {
   "metadata": {
    "ExecuteTime": {
     "end_time": "2024-06-29T23:59:43.249904Z",
     "start_time": "2024-06-29T23:59:43.246311Z"
    }
   },
   "cell_type": "code",
   "source": "print(1)",
   "id": "fb0ee66b0b7bea36",
   "outputs": [
    {
     "name": "stdout",
     "output_type": "stream",
     "text": [
      "1\n"
     ]
    }
   ],
   "execution_count": 2
  },
  {
   "metadata": {
    "ExecuteTime": {
     "end_time": "2024-06-30T00:00:02.960199Z",
     "start_time": "2024-06-30T00:00:02.950669Z"
    }
   },
   "cell_type": "code",
   "source": [
    "import psutil\n",
    "import time\n",
    "import threading\n",
    "from functools import wraps\n",
    "\n",
    "\n",
    "def monitor_memory_decorator(interval=1):\n",
    "    def decorator(func):\n",
    "        @wraps(func)\n",
    "        def wrapper(*args, **kwargs):\n",
    "            # Start monitoring in a separate thread\n",
    "            running = True\n",
    "\n",
    "            def monitor_memory():\n",
    "                process = psutil.Process()  # Get the current Python process\n",
    "                try:\n",
    "                    while running:\n",
    "                        mem_info = process.memory_info()\n",
    "                        print(\n",
    "                            f\"Memory Usage: RSS = {mem_info.rss / (1024 ** 2):.2f} MB, \"\n",
    "                            + f\"VMS = {mem_info.vms / (1024 ** 2):.2f} MB\"\n",
    "                        )\n",
    "                        time.sleep(interval)\n",
    "                finally:\n",
    "                    print(\"Memory monitoring stopped.\")\n",
    "\n",
    "            # Thread setup\n",
    "            monitor_thread = threading.Thread(target=monitor_memory)\n",
    "            monitor_thread.start()\n",
    "\n",
    "            # Execute the function\n",
    "            result = func(*args, **kwargs)\n",
    "            running = False\n",
    "\n",
    "            return result\n",
    "\n",
    "        return wrapper\n",
    "\n",
    "    return decorator\n"
   ],
   "id": "885932623b68e6e9",
   "outputs": [],
   "execution_count": 3
  },
  {
   "cell_type": "code",
   "id": "6e84fb10e4806a52",
   "metadata": {
    "collapsed": true,
    "ExecuteTime": {
     "end_time": "2024-06-30T00:00:12.138690Z",
     "start_time": "2024-06-30T00:00:12.134099Z"
    }
   },
   "source": [
    "import subprocess\n",
    "import os\n",
    "\n",
    "@monitor_memory_decorator(interval=1)\n",
    "def split_audio_in_place_ffmpeg(audio_path, segment_duration):\n",
    "    directory, filename = os.path.split(audio_path)\n",
    "    basename, _ = os.path.splitext(filename)\n",
    "    segment_dir = os.path.join(directory, f\"{basename}_segments\")\n",
    "    os.makedirs(segment_dir, exist_ok=True)\n",
    "\n",
    "    # Construct the ffmpeg command to split the audio\n",
    "    segment_path = os.path.join(segment_dir, f\"{basename}_segment%03d.mp3\")\n",
    "    command = [\n",
    "        'ffmpeg',\n",
    "        '-i', audio_path,           # Input file\n",
    "        '-f', 'segment',            # Format to use for segmenting\n",
    "        '-segment_time', str(segment_duration),  # Duration of each segment in seconds\n",
    "        '-c', 'copy',               # Use the same codec\n",
    "        segment_path                # Output path pattern\n",
    "    ]\n",
    "\n",
    "    # Execute the command\n",
    "    subprocess.run(command, check=True)\n",
    "\n",
    "    # Optionally, remove the original file if required\n",
    "    # os.remove(audio_path)"
   ],
   "outputs": [],
   "execution_count": 4
  },
  {
   "metadata": {
    "ExecuteTime": {
     "end_time": "2024-06-30T00:01:05.377269Z",
     "start_time": "2024-06-30T00:01:04.528946Z"
    }
   },
   "cell_type": "code",
   "source": [
    "\n",
    "# Example usage\n",
    "audio_path = 'sample_data/2024-05-22 -140339_1920x1170.mp3'\n",
    "segment_duration = 300  # 1 minute segments\n",
    "split_audio_in_place_ffmpeg(audio_path, segment_duration)\n"
   ],
   "id": "initial_id",
   "outputs": [
    {
     "name": "stdout",
     "output_type": "stream",
     "text": [
      "Memory Usage: RSS = 31.86 MB, VMS = 402265.25 MB\n"
     ]
    },
    {
     "name": "stderr",
     "output_type": "stream",
     "text": [
      "ffmpeg version 7.0 Copyright (c) 2000-2024 the FFmpeg developers\n",
      "  built with Apple clang version 15.0.0 (clang-1500.3.9.4)\n",
      "  configuration: --prefix=/opt/homebrew/Cellar/ffmpeg/7.0_1 --enable-shared --enable-pthreads --enable-version3 --cc=clang --host-cflags= --host-ldflags='-Wl,-ld_classic' --enable-ffplay --enable-gnutls --enable-gpl --enable-libaom --enable-libaribb24 --enable-libbluray --enable-libdav1d --enable-libharfbuzz --enable-libjxl --enable-libmp3lame --enable-libopus --enable-librav1e --enable-librist --enable-librubberband --enable-libsnappy --enable-libsrt --enable-libssh --enable-libsvtav1 --enable-libtesseract --enable-libtheora --enable-libvidstab --enable-libvmaf --enable-libvorbis --enable-libvpx --enable-libwebp --enable-libx264 --enable-libx265 --enable-libxml2 --enable-libxvid --enable-lzma --enable-libfontconfig --enable-libfreetype --enable-frei0r --enable-libass --enable-libopencore-amrnb --enable-libopencore-amrwb --enable-libopenjpeg --enable-libspeex --enable-libsoxr --enable-libzmq --enable-libzimg --disable-libjack --disable-indev=jack --enable-videotoolbox --enable-audiotoolbox --enable-neon\n",
      "  libavutil      59.  8.100 / 59.  8.100\n",
      "  libavcodec     61.  3.100 / 61.  3.100\n",
      "  libavformat    61.  1.100 / 61.  1.100\n",
      "  libavdevice    61.  1.100 / 61.  1.100\n",
      "  libavfilter    10.  1.100 / 10.  1.100\n",
      "  libswscale      8.  1.100 /  8.  1.100\n",
      "  libswresample   5.  1.100 /  5.  1.100\n",
      "  libpostproc    58.  1.100 / 58.  1.100\n",
      "Input #0, mp3, from 'sample_data/2024-05-22 -140339_1920x1170.mp3':\n",
      "  Metadata:\n",
      "    encoder         : Lavf61.1.100\n",
      "  Duration: 01:23:41.91, start: 0.025057, bitrate: 128 kb/s\n",
      "  Stream #0:0: Audio: mp3 (mp3float), 44100 Hz, stereo, fltp, 128 kb/s\n",
      "      Metadata:\n",
      "        encoder         : Lavc61.3.\n",
      "Stream mapping:\n",
      "  Stream #0:0 -> #0:0 (copy)\n",
      "[segment @ 0x149804ca0] Opening 'sample_data/2024-05-22 -140339_1920x1170_segments/2024-05-22 -140339_1920x1170_segment000.mp3' for writing\n",
      "Output #0, segment, to 'sample_data/2024-05-22 -140339_1920x1170_segments/2024-05-22 -140339_1920x1170_segment%03d.mp3':\n",
      "  Metadata:\n",
      "    encoder         : Lavf61.1.100\n",
      "  Stream #0:0: Audio: mp3, 44100 Hz, stereo, fltp, 128 kb/s\n",
      "      Metadata:\n",
      "        encoder         : Lavc61.3.\n",
      "Press [q] to stop, [?] for help\n",
      "[segment @ 0x149804ca0] Opening 'sample_data/2024-05-22 -140339_1920x1170_segments/2024-05-22 -140339_1920x1170_segment001.mp3' for writing\n",
      "[segment @ 0x149804ca0] Opening 'sample_data/2024-05-22 -140339_1920x1170_segments/2024-05-22 -140339_1920x1170_segment002.mp3' for writing\n",
      "[segment @ 0x149804ca0] Opening 'sample_data/2024-05-22 -140339_1920x1170_segments/2024-05-22 -140339_1920x1170_segment003.mp3' for writing\n",
      "[segment @ 0x149804ca0] Opening 'sample_data/2024-05-22 -140339_1920x1170_segments/2024-05-22 -140339_1920x1170_segment004.mp3' for writing\n",
      "[segment @ 0x149804ca0] Opening 'sample_data/2024-05-22 -140339_1920x1170_segments/2024-05-22 -140339_1920x1170_segment005.mp3' for writing\n",
      "[segment @ 0x149804ca0] Opening 'sample_data/2024-05-22 -140339_1920x1170_segments/2024-05-22 -140339_1920x1170_segment006.mp3' for writing\n",
      "[segment @ 0x149804ca0] Opening 'sample_data/2024-05-22 -140339_1920x1170_segments/2024-05-22 -140339_1920x1170_segment007.mp3' for writing\n",
      "[segment @ 0x149804ca0] Opening 'sample_data/2024-05-22 -140339_1920x1170_segments/2024-05-22 -140339_1920x1170_segment008.mp3' for writing\n",
      "[segment @ 0x149804ca0] Opening 'sample_data/2024-05-22 -140339_1920x1170_segments/2024-05-22 -140339_1920x1170_segment009.mp3' for writing\n",
      "[segment @ 0x149804ca0] Opening 'sample_data/2024-05-22 -140339_1920x1170_segments/2024-05-22 -140339_1920x1170_segment010.mp3' for writing\n",
      "[segment @ 0x149804ca0] Opening 'sample_data/2024-05-22 -140339_1920x1170_segments/2024-05-22 -140339_1920x1170_segment011.mp3' for writing\n",
      "[segment @ 0x149804ca0] Opening 'sample_data/2024-05-22 -140339_1920x1170_segments/2024-05-22 -140339_1920x1170_segment012.mp3' for writing\n",
      "[segment @ 0x149804ca0] Opening 'sample_data/2024-05-22 -140339_1920x1170_segments/2024-05-22 -140339_1920x1170_segment013.mp3' for writing\n",
      "[segment @ 0x149804ca0] Opening 'sample_data/2024-05-22 -140339_1920x1170_segments/2024-05-22 -140339_1920x1170_segment014.mp3' for writing\n",
      "[segment @ 0x149804ca0] Opening 'sample_data/2024-05-22 -140339_1920x1170_segments/2024-05-22 -140339_1920x1170_segment015.mp3' for writing\n",
      "[segment @ 0x149804ca0] Opening 'sample_data/2024-05-22 -140339_1920x1170_segments/2024-05-22 -140339_1920x1170_segment016.mp3' for writing\n",
      "[segment @ 0x149804ca0] Opening 'sample_data/2024-05-22 -140339_1920x1170_segments/2024-05-22 -140339_1920x1170_segment017.mp3' for writing\n",
      "[segment @ 0x149804ca0] Opening 'sample_data/2024-05-22 -140339_1920x1170_segments/2024-05-22 -140339_1920x1170_segment018.mp3' for writing\n",
      "[segment @ 0x149804ca0] Opening 'sample_data/2024-05-22 -140339_1920x1170_segments/2024-05-22 -140339_1920x1170_segment019.mp3' for writing\n",
      "[segment @ 0x149804ca0] Opening 'sample_data/2024-05-22 -140339_1920x1170_segments/2024-05-22 -140339_1920x1170_segment020.mp3' for writing\n",
      "[segment @ 0x149804ca0] Opening 'sample_data/2024-05-22 -140339_1920x1170_segments/2024-05-22 -140339_1920x1170_segment021.mp3' for writing\n",
      "[segment @ 0x149804ca0] Opening 'sample_data/2024-05-22 -140339_1920x1170_segments/2024-05-22 -140339_1920x1170_segment022.mp3' for writing\n",
      "[segment @ 0x149804ca0] Opening 'sample_data/2024-05-22 -140339_1920x1170_segments/2024-05-22 -140339_1920x1170_segment023.mp3' for writing\n",
      "[segment @ 0x149804ca0] Opening 'sample_data/2024-05-22 -140339_1920x1170_segments/2024-05-22 -140339_1920x1170_segment024.mp3' for writing\n",
      "[segment @ 0x149804ca0] Opening 'sample_data/2024-05-22 -140339_1920x1170_segments/2024-05-22 -140339_1920x1170_segment025.mp3' for writing\n",
      "[segment @ 0x149804ca0] Opening 'sample_data/2024-05-22 -140339_1920x1170_segments/2024-05-22 -140339_1920x1170_segment026.mp3' for writing\n",
      "[segment @ 0x149804ca0] Opening 'sample_data/2024-05-22 -140339_1920x1170_segments/2024-05-22 -140339_1920x1170_segment027.mp3' for writing\n",
      "[segment @ 0x149804ca0] Opening 'sample_data/2024-05-22 -140339_1920x1170_segments/2024-05-22 -140339_1920x1170_segment028.mp3' for writing\n",
      "[segment @ 0x149804ca0] Opening 'sample_data/2024-05-22 -140339_1920x1170_segments/2024-05-22 -140339_1920x1170_segment029.mp3' for writing\n",
      "[segment @ 0x149804ca0] Opening 'sample_data/2024-05-22 -140339_1920x1170_segments/2024-05-22 -140339_1920x1170_segment030.mp3' for writing\n",
      "[segment @ 0x149804ca0] Opening 'sample_data/2024-05-22 -140339_1920x1170_segments/2024-05-22 -140339_1920x1170_segment031.mp3' for writing\n",
      "[segment @ 0x149804ca0] Opening 'sample_data/2024-05-22 -140339_1920x1170_segments/2024-05-22 -140339_1920x1170_segment032.mp3' for writing\n",
      "[segment @ 0x149804ca0] Opening 'sample_data/2024-05-22 -140339_1920x1170_segments/2024-05-22 -140339_1920x1170_segment033.mp3' for writing\n",
      "[segment @ 0x149804ca0] Opening 'sample_data/2024-05-22 -140339_1920x1170_segments/2024-05-22 -140339_1920x1170_segment034.mp3' for writing\n",
      "[segment @ 0x149804ca0] Opening 'sample_data/2024-05-22 -140339_1920x1170_segments/2024-05-22 -140339_1920x1170_segment035.mp3' for writing\n",
      "[segment @ 0x149804ca0] Opening 'sample_data/2024-05-22 -140339_1920x1170_segments/2024-05-22 -140339_1920x1170_segment036.mp3' for writing\n",
      "[segment @ 0x149804ca0] Opening 'sample_data/2024-05-22 -140339_1920x1170_segments/2024-05-22 -140339_1920x1170_segment037.mp3' for writing\n",
      "[segment @ 0x149804ca0] Opening 'sample_data/2024-05-22 -140339_1920x1170_segments/2024-05-22 -140339_1920x1170_segment038.mp3' for writing\n",
      "[segment @ 0x149804ca0] Opening 'sample_data/2024-05-22 -140339_1920x1170_segments/2024-05-22 -140339_1920x1170_segment039.mp3' for writing\n",
      "[segment @ 0x149804ca0] Opening 'sample_data/2024-05-22 -140339_1920x1170_segments/2024-05-22 -140339_1920x1170_segment040.mp3' for writing\n",
      "[segment @ 0x149804ca0] Opening 'sample_data/2024-05-22 -140339_1920x1170_segments/2024-05-22 -140339_1920x1170_segment041.mp3' for writing\n",
      "[segment @ 0x149804ca0] Opening 'sample_data/2024-05-22 -140339_1920x1170_segments/2024-05-22 -140339_1920x1170_segment042.mp3' for writing\n",
      "[segment @ 0x149804ca0] Opening 'sample_data/2024-05-22 -140339_1920x1170_segments/2024-05-22 -140339_1920x1170_segment043.mp3' for writing\n",
      "[segment @ 0x149804ca0] Opening 'sample_data/2024-05-22 -140339_1920x1170_segments/2024-05-22 -140339_1920x1170_segment044.mp3' for writing\n",
      "[segment @ 0x149804ca0] Opening 'sample_data/2024-05-22 -140339_1920x1170_segments/2024-05-22 -140339_1920x1170_segment045.mp3' for writing\n",
      "[segment @ 0x149804ca0] Opening 'sample_data/2024-05-22 -140339_1920x1170_segments/2024-05-22 -140339_1920x1170_segment046.mp3' for writing\n",
      "[segment @ 0x149804ca0] Opening 'sample_data/2024-05-22 -140339_1920x1170_segments/2024-05-22 -140339_1920x1170_segment047.mp3' for writing\n",
      "[segment @ 0x149804ca0] Opening 'sample_data/2024-05-22 -140339_1920x1170_segments/2024-05-22 -140339_1920x1170_segment048.mp3' for writing\n",
      "[segment @ 0x149804ca0] Opening 'sample_data/2024-05-22 -140339_1920x1170_segments/2024-05-22 -140339_1920x1170_segment049.mp3' for writing\n",
      "[segment @ 0x149804ca0] Opening 'sample_data/2024-05-22 -140339_1920x1170_segments/2024-05-22 -140339_1920x1170_segment050.mp3' for writing\n",
      "[segment @ 0x149804ca0] Opening 'sample_data/2024-05-22 -140339_1920x1170_segments/2024-05-22 -140339_1920x1170_segment051.mp3' for writing\n",
      "[segment @ 0x149804ca0] Opening 'sample_data/2024-05-22 -140339_1920x1170_segments/2024-05-22 -140339_1920x1170_segment052.mp3' for writing\n",
      "[segment @ 0x149804ca0] Opening 'sample_data/2024-05-22 -140339_1920x1170_segments/2024-05-22 -140339_1920x1170_segment053.mp3' for writing\n",
      "[segment @ 0x149804ca0] Opening 'sample_data/2024-05-22 -140339_1920x1170_segments/2024-05-22 -140339_1920x1170_segment054.mp3' for writing\n",
      "[segment @ 0x149804ca0] Opening 'sample_data/2024-05-22 -140339_1920x1170_segments/2024-05-22 -140339_1920x1170_segment055.mp3' for writing\n",
      "[segment @ 0x149804ca0] Opening 'sample_data/2024-05-22 -140339_1920x1170_segments/2024-05-22 -140339_1920x1170_segment056.mp3' for writing\n",
      "[segment @ 0x149804ca0] Opening 'sample_data/2024-05-22 -140339_1920x1170_segments/2024-05-22 -140339_1920x1170_segment057.mp3' for writing\n",
      "[segment @ 0x149804ca0] Opening 'sample_data/2024-05-22 -140339_1920x1170_segments/2024-05-22 -140339_1920x1170_segment058.mp3' for writing\n",
      "[segment @ 0x149804ca0] Opening 'sample_data/2024-05-22 -140339_1920x1170_segments/2024-05-22 -140339_1920x1170_segment059.mp3' for writing\n",
      "[segment @ 0x149804ca0] Opening 'sample_data/2024-05-22 -140339_1920x1170_segments/2024-05-22 -140339_1920x1170_segment060.mp3' for writing\n",
      "[segment @ 0x149804ca0] Opening 'sample_data/2024-05-22 -140339_1920x1170_segments/2024-05-22 -140339_1920x1170_segment061.mp3' for writing\n",
      "[segment @ 0x149804ca0] Opening 'sample_data/2024-05-22 -140339_1920x1170_segments/2024-05-22 -140339_1920x1170_segment062.mp3' for writing\n",
      "[segment @ 0x149804ca0] Opening 'sample_data/2024-05-22 -140339_1920x1170_segments/2024-05-22 -140339_1920x1170_segment063.mp3' for writing\n",
      "[segment @ 0x149804ca0] Opening 'sample_data/2024-05-22 -140339_1920x1170_segments/2024-05-22 -140339_1920x1170_segment064.mp3' for writing\n",
      "[segment @ 0x149804ca0] Opening 'sample_data/2024-05-22 -140339_1920x1170_segments/2024-05-22 -140339_1920x1170_segment065.mp3' for writing\n",
      "[segment @ 0x149804ca0] Opening 'sample_data/2024-05-22 -140339_1920x1170_segments/2024-05-22 -140339_1920x1170_segment066.mp3' for writing\n",
      "[segment @ 0x149804ca0] Opening 'sample_data/2024-05-22 -140339_1920x1170_segments/2024-05-22 -140339_1920x1170_segment067.mp3' for writing\n",
      "[segment @ 0x149804ca0] Opening 'sample_data/2024-05-22 -140339_1920x1170_segments/2024-05-22 -140339_1920x1170_segment068.mp3' for writing\n",
      "[segment @ 0x149804ca0] Opening 'sample_data/2024-05-22 -140339_1920x1170_segments/2024-05-22 -140339_1920x1170_segment069.mp3' for writing\n",
      "[segment @ 0x149804ca0] Opening 'sample_data/2024-05-22 -140339_1920x1170_segments/2024-05-22 -140339_1920x1170_segment070.mp3' for writing\n",
      "[segment @ 0x149804ca0] Opening 'sample_data/2024-05-22 -140339_1920x1170_segments/2024-05-22 -140339_1920x1170_segment071.mp3' for writing\n",
      "[segment @ 0x149804ca0] Opening 'sample_data/2024-05-22 -140339_1920x1170_segments/2024-05-22 -140339_1920x1170_segment072.mp3' for writing\n",
      "[segment @ 0x149804ca0] Opening 'sample_data/2024-05-22 -140339_1920x1170_segments/2024-05-22 -140339_1920x1170_segment073.mp3' for writing\n",
      "[segment @ 0x149804ca0] Opening 'sample_data/2024-05-22 -140339_1920x1170_segments/2024-05-22 -140339_1920x1170_segment074.mp3' for writing\n",
      "[segment @ 0x149804ca0] Opening 'sample_data/2024-05-22 -140339_1920x1170_segments/2024-05-22 -140339_1920x1170_segment075.mp3' for writing\n",
      "[segment @ 0x149804ca0] Opening 'sample_data/2024-05-22 -140339_1920x1170_segments/2024-05-22 -140339_1920x1170_segment076.mp3' for writing\n",
      "[segment @ 0x149804ca0] Opening 'sample_data/2024-05-22 -140339_1920x1170_segments/2024-05-22 -140339_1920x1170_segment077.mp3' for writing\n",
      "[segment @ 0x149804ca0] Opening 'sample_data/2024-05-22 -140339_1920x1170_segments/2024-05-22 -140339_1920x1170_segment078.mp3' for writing\n",
      "[segment @ 0x149804ca0] Opening 'sample_data/2024-05-22 -140339_1920x1170_segments/2024-05-22 -140339_1920x1170_segment079.mp3' for writing\n",
      "[segment @ 0x149804ca0] Opening 'sample_data/2024-05-22 -140339_1920x1170_segments/2024-05-22 -140339_1920x1170_segment080.mp3' for writing\n",
      "[segment @ 0x149804ca0] Opening 'sample_data/2024-05-22 -140339_1920x1170_segments/2024-05-22 -140339_1920x1170_segment081.mp3' for writing\n",
      "[segment @ 0x149804ca0] Opening 'sample_data/2024-05-22 -140339_1920x1170_segments/2024-05-22 -140339_1920x1170_segment082.mp3' for writing\n",
      "[segment @ 0x149804ca0] Opening 'sample_data/2024-05-22 -140339_1920x1170_segments/2024-05-22 -140339_1920x1170_segment083.mp3' for writing\n",
      "[out#0/segment @ 0x600003d80000] video:0KiB audio:78467KiB subtitle:0KiB other streams:0KiB global headers:0KiB muxing overhead: unknown\n",
      "size=N/A time=01:23:41.88 bitrate=N/A speed=7.11e+03x    \n"
     ]
    }
   ],
   "execution_count": 5
  },
  {
   "metadata": {},
   "cell_type": "code",
   "outputs": [],
   "execution_count": null,
   "source": "",
   "id": "f34e965e2cc205da"
  }
 ],
 "metadata": {
  "kernelspec": {
   "display_name": "Python 3",
   "language": "python",
   "name": "python3"
  },
  "language_info": {
   "codemirror_mode": {
    "name": "ipython",
    "version": 2
   },
   "file_extension": ".py",
   "mimetype": "text/x-python",
   "name": "python",
   "nbconvert_exporter": "python",
   "pygments_lexer": "ipython2",
   "version": "2.7.6"
  }
 },
 "nbformat": 4,
 "nbformat_minor": 5
}
