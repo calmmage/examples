{
 "cells": [
  {
   "cell_type": "code",
   "execution_count": null,
   "id": "initial_id",
   "metadata": {
    "collapsed": true
   },
   "outputs": [],
   "source": [
    ""
   ]
  },
  {
   "metadata": {
    "ExecuteTime": {
     "end_time": "2024-06-29T22:40:12.790068Z",
     "start_time": "2024-06-29T22:40:12.783517Z"
    }
   },
   "cell_type": "code",
   "source": [
    "from moviepy.editor import VideoFileClip\n",
    "import os\n",
    "from pathlib import Path\n",
    "from typing import Union\n",
    "Pathlike = Union[str, Path]\n",
    "def convert_video_to_audio(video_path: Pathlike):\n",
    "    video_path = Path(video_path)\n",
    "    # Load the video file\n",
    "    video_clip = VideoFileClip(str(video_path))\n",
    "    \n",
    "    # Extract audio from the video\n",
    "    audio_clip = video_clip.audio\n",
    "    \n",
    "    # Define the new audio file path (same as video but with .mp3 extension)\n",
    "    audio_path = video_path.with_suffix('.mp3')\n",
    "    \n",
    "    # Write the audio file to disk\n",
    "    audio_clip.write_audiofile(audio_path)\n",
    "    \n",
    "    # Close the clips\n",
    "    video_clip.close()\n",
    "    audio_clip.close()\n",
    "\n",
    "\n"
   ],
   "id": "aa8fbb6658194196",
   "outputs": [],
   "execution_count": 4
  },
  {
   "metadata": {
    "ExecuteTime": {
     "end_time": "2024-06-29T23:32:01.827505Z",
     "start_time": "2024-06-29T23:32:01.699161Z"
    }
   },
   "cell_type": "code",
   "source": "%load_ext memory_profiler\n",
   "id": "490bb48ec7464b0a",
   "outputs": [],
   "execution_count": 8
  },
  {
   "metadata": {
    "ExecuteTime": {
     "end_time": "2024-06-29T23:30:26.277055Z",
     "start_time": "2024-06-29T23:29:48.036261Z"
    }
   },
   "cell_type": "code",
   "source": [
    "from pathlib import Path\n",
    "# Example usage\n",
    "video_path = Path('sample_data/2024-05-22 -140339_1920x1170.mp4')\n"
   ],
   "id": "eefb18d4d853b67",
   "outputs": [
    {
     "name": "stdout",
     "output_type": "stream",
     "text": [
      "MoviePy - Writing audio in sample_data/2024-05-22 -140339_1920x1170.mp3\n"
     ]
    },
    {
     "name": "stderr",
     "output_type": "stream",
     "text": [
      "                                                                          \r"
     ]
    },
    {
     "name": "stdout",
     "output_type": "stream",
     "text": [
      "MoviePy - Done.\n"
     ]
    }
   ],
   "execution_count": 6
  },
  {
   "metadata": {
    "ExecuteTime": {
     "end_time": "2024-06-29T23:32:52.309505Z",
     "start_time": "2024-06-29T23:32:16.277563Z"
    }
   },
   "cell_type": "code",
   "source": "%memit convert_video_to_audio(video_path)",
   "id": "c50239c2ad425920",
   "outputs": [
    {
     "name": "stdout",
     "output_type": "stream",
     "text": [
      "MoviePy - Writing audio in sample_data/2024-05-22 -140339_1920x1170.mp3\n"
     ]
    },
    {
     "name": "stderr",
     "output_type": "stream",
     "text": [
      "                                                                          \r"
     ]
    },
    {
     "name": "stdout",
     "output_type": "stream",
     "text": [
      "MoviePy - Done.\n",
      "peak memory: 211.12 MiB, increment: 80.05 MiB\n"
     ]
    }
   ],
   "execution_count": 9
  },
  {
   "metadata": {
    "ExecuteTime": {
     "end_time": "2024-06-29T21:20:18.806940Z",
     "start_time": "2024-06-29T21:20:01.757808Z"
    }
   },
   "cell_type": "code",
   "source": [
    "import psutil\n",
    "import time\n",
    "\n",
    "def monitor_memory():\n",
    "    process = psutil.Process()  # Get the current Jupyter notebook process\n",
    "    try:\n",
    "        while True:\n",
    "            mem_info = process.memory_info()\n",
    "            print(f\"Memory Usage: RSS = {mem_info.rss / (1024 ** 2):.2f} MB, \" +\n",
    "                  f\"VMS = {mem_info.vms / (1024 ** 2):.2f} MB\")\n",
    "            time.sleep(10)  # Adjust the sleep time to how often you want to check\n",
    "    except KeyboardInterrupt:\n",
    "        print(\"Stopped memory monitoring.\")\n",
    "\n",
    "# You can run this in a separate cell and interrupt it when done.\n",
    "monitor_memory()\n"
   ],
   "id": "6d525bfe437fcb87",
   "outputs": [
    {
     "name": "stdout",
     "output_type": "stream",
     "text": [
      "Memory Usage: RSS = 116.06 MB, VMS = 402232.12 MB\n",
      "Memory Usage: RSS = 89.00 MB, VMS = 402232.12 MB\n",
      "Stopped memory monitoring.\n"
     ]
    }
   ],
   "execution_count": 1
  },
  {
   "metadata": {},
   "cell_type": "code",
   "outputs": [],
   "execution_count": null,
   "source": "",
   "id": "d11d03478f75b0b8"
  }
 ],
 "metadata": {
  "kernelspec": {
   "display_name": "Python 3",
   "language": "python",
   "name": "python3"
  },
  "language_info": {
   "codemirror_mode": {
    "name": "ipython",
    "version": 2
   },
   "file_extension": ".py",
   "mimetype": "text/x-python",
   "name": "python",
   "nbconvert_exporter": "python",
   "pygments_lexer": "ipython2",
   "version": "2.7.6"
  }
 },
 "nbformat": 4,
 "nbformat_minor": 5
}
