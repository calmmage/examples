{
 "cells": [
  {
   "metadata": {
    "ExecuteTime": {
     "end_time": "2024-08-04T02:14:00.911235Z",
     "start_time": "2024-08-04T02:14:00.908667Z"
    }
   },
   "cell_type": "code",
   "source": [
    "import os\n",
    "\n",
    "# local\n",
    "# conn_str = os.getenv('MONGODB_CONN_STR')\n",
    "db_name = 'test-db-4-aug'\n",
    "collection_name = 'test_collection'"
   ],
   "id": "9510859903c156b6",
   "outputs": [],
   "execution_count": 4
  },
  {
   "metadata": {
    "ExecuteTime": {
     "end_time": "2024-08-04T02:14:03.249457Z",
     "start_time": "2024-08-04T02:14:02.809836Z"
    }
   },
   "cell_type": "code",
   "source": [
    "from dotenv import load_dotenv\n",
    "load_dotenv()\n",
    "\n",
    "for key in (\"MONGODB_CONN_STR_LOCAL\", \n",
    "\"MONGODB_CONN_STR_ATLAS\",\n",
    "\"MONGODB_CONN_STR_COOLIFY\"):\n",
    "    conn_str = os.getenv(key)\n",
    "    print(\"loading\", key)\n",
    "    from pymongo import MongoClient\n",
    "    \n",
    "    \n",
    "    client = MongoClient(conn_str)\n",
    "    db = client[db_name]\n",
    "    collection = db[collection_name]\n",
    "    \n",
    "    for item in collection.find():\n",
    "        print(item)\n",
    "    "
   ],
   "id": "71fbe921cf6983cb",
   "outputs": [
    {
     "name": "stdout",
     "output_type": "stream",
     "text": [
      "loading MONGODB_CONN_STR_LOCAL\n",
      "{'_id': ObjectId('66aedc43cce1dcf2d627ed69'), 'test_key_1': 'test_value_53'}\n",
      "loading MONGODB_CONN_STR_ATLAS\n",
      "{'_id': ObjectId('66aee3457b4395a95412c3b9'), 'secret key': 'secret value serverless cloud 12'}\n",
      "loading MONGODB_CONN_STR_COOLIFY\n",
      "{'_id': ObjectId('66aee2d76171c090c21f9c00'), 'sample_key': 'secret_value_1_coolify'}\n"
     ]
    }
   ],
   "execution_count": 5
  },
  {
   "metadata": {},
   "cell_type": "code",
   "outputs": [],
   "execution_count": null,
   "source": "",
   "id": "cd660184db22b012"
  }
 ],
 "metadata": {
  "kernelspec": {
   "display_name": "Python 3",
   "language": "python",
   "name": "python3"
  },
  "language_info": {
   "codemirror_mode": {
    "name": "ipython",
    "version": 2
   },
   "file_extension": ".py",
   "mimetype": "text/x-python",
   "name": "python",
   "nbconvert_exporter": "python",
   "pygments_lexer": "ipython2",
   "version": "2.7.6"
  }
 },
 "nbformat": 4,
 "nbformat_minor": 5
}
